{
 "metadata": {
  "language_info": {
   "codemirror_mode": {
    "name": "ipython",
    "version": 3
   },
   "file_extension": ".py",
   "mimetype": "text/x-python",
   "name": "python",
   "nbconvert_exporter": "python",
   "pygments_lexer": "ipython3",
   "version": "3.8.5"
  },
  "orig_nbformat": 2,
  "kernelspec": {
   "name": "python38564bitbaseconda6a1770027b924823bf65f396110ad90f",
   "display_name": "Python 3.8.5 64-bit ('base': conda)"
  },
  "metadata": {
   "interpreter": {
    "hash": "bc4fbd6e1bea1fda9411923f753f92d3282c070fdbd959891bf5a78b35520a26"
   }
  }
 },
 "nbformat": 4,
 "nbformat_minor": 2,
 "cells": [
  {
   "cell_type": "code",
   "execution_count": 4,
   "metadata": {},
   "outputs": [],
   "source": [
    "from Model import *\n",
    "from dataset import Dataset\n",
    "import numpy as np\n",
    "from Optimizer import Optimizer\n",
    "from Loss import *"
   ]
  },
  {
   "cell_type": "code",
   "execution_count": 6,
   "metadata": {},
   "outputs": [
    {
     "output_type": "execute_result",
     "data": {
      "text/plain": [
       "array([[ 1.00, -1.03,  0.88,  1.03,  0.37,  1.04,  0.36,  0.21],\n",
       "       [ 1.00, -1.16, -1.39,  1.15, -2.14, -0.54, -1.21,  0.65]])"
      ]
     },
     "metadata": {},
     "execution_count": 6
    }
   ],
   "source": [
    "d = Dataset(\"../datasets/dataset_train.csv\")\n",
    "m = Model(sizes = [8, 4], activations = [\"softmax\"], optimizer=Optimizer(learning_rate=0.1, Loss=CrossEntropyLoss()))\n",
    "l = m.layers[0]\n",
    "d.x = d.x\n",
    "d.y = d.y\n",
    "mask = [0,1]\n",
    "ex = d.x[mask]\n",
    "ey = d.y[mask]\n",
    "ex"
   ]
  },
  {
   "cell_type": "code",
   "execution_count": 7,
   "metadata": {
    "tags": []
   },
   "outputs": [
    {
     "output_type": "error",
     "ename": "TypeError",
     "evalue": "'int' object is not callable",
     "traceback": [
      "\u001b[0;31m---------------------------------------------------------------------------\u001b[0m",
      "\u001b[0;31mTypeError\u001b[0m                                 Traceback (most recent call last)",
      "\u001b[0;32m<ipython-input-7-7eedebf4c1da>\u001b[0m in \u001b[0;36m<module>\u001b[0;34m\u001b[0m\n\u001b[1;32m      1\u001b[0m \u001b[0;32mfor\u001b[0m \u001b[0mi\u001b[0m \u001b[0;32min\u001b[0m \u001b[0mrange\u001b[0m\u001b[0;34m(\u001b[0m\u001b[0;36m10000\u001b[0m\u001b[0;34m)\u001b[0m\u001b[0;34m:\u001b[0m\u001b[0;34m\u001b[0m\u001b[0;34m\u001b[0m\u001b[0m\n\u001b[0;32m----> 2\u001b[0;31m     \u001b[0mm\u001b[0m\u001b[0;34m.\u001b[0m\u001b[0mfit\u001b[0m\u001b[0;34m(\u001b[0m\u001b[0md\u001b[0m\u001b[0;34m.\u001b[0m\u001b[0mx\u001b[0m\u001b[0;34m,\u001b[0m \u001b[0md\u001b[0m\u001b[0;34m.\u001b[0m\u001b[0my\u001b[0m\u001b[0;34m)\u001b[0m\u001b[0;34m\u001b[0m\u001b[0;34m\u001b[0m\u001b[0m\n\u001b[0m\u001b[1;32m      3\u001b[0m \u001b[0mprint\u001b[0m\u001b[0;34m(\u001b[0m\u001b[0;34mf\"{l.a = }\\n\\n{d.y = }\\n\\n{l.x = }\\n\\n{l.w}\\n\\n\"\u001b[0m\u001b[0;34m)\u001b[0m\u001b[0;34m\u001b[0m\u001b[0;34m\u001b[0m\u001b[0m\n",
      "\u001b[0;32m~/Desktop/Code/School/MLP2/srcs/Model.py\u001b[0m in \u001b[0;36mfit\u001b[0;34m(self, x, y)\u001b[0m\n\u001b[1;32m     30\u001b[0m     \u001b[0;32mdef\u001b[0m \u001b[0mfit\u001b[0m\u001b[0;34m(\u001b[0m\u001b[0mself\u001b[0m\u001b[0;34m,\u001b[0m \u001b[0mx\u001b[0m\u001b[0;34m,\u001b[0m \u001b[0my\u001b[0m\u001b[0;34m)\u001b[0m\u001b[0;34m:\u001b[0m\u001b[0;34m\u001b[0m\u001b[0;34m\u001b[0m\u001b[0m\n\u001b[1;32m     31\u001b[0m         \u001b[0my_hat\u001b[0m \u001b[0;34m=\u001b[0m \u001b[0mself\u001b[0m\u001b[0;34m.\u001b[0m\u001b[0mfeed_forward\u001b[0m\u001b[0;34m(\u001b[0m\u001b[0mx\u001b[0m\u001b[0;34m)\u001b[0m\u001b[0;34m\u001b[0m\u001b[0;34m\u001b[0m\u001b[0m\n\u001b[0;32m---> 32\u001b[0;31m         \u001b[0mself\u001b[0m\u001b[0;34m.\u001b[0m\u001b[0mOptimizer\u001b[0m\u001b[0;34m.\u001b[0m\u001b[0mfit\u001b[0m\u001b[0;34m(\u001b[0m\u001b[0mself\u001b[0m\u001b[0;34m.\u001b[0m\u001b[0mlayers\u001b[0m\u001b[0;34m,\u001b[0m \u001b[0my\u001b[0m\u001b[0;34m)\u001b[0m\u001b[0;34m\u001b[0m\u001b[0;34m\u001b[0m\u001b[0m\n\u001b[0m\u001b[1;32m     33\u001b[0m \u001b[0;34m\u001b[0m\u001b[0m\n\u001b[1;32m     34\u001b[0m     \u001b[0;32mdef\u001b[0m \u001b[0m__str__\u001b[0m\u001b[0;34m(\u001b[0m\u001b[0mself\u001b[0m\u001b[0;34m)\u001b[0m\u001b[0;34m:\u001b[0m\u001b[0;34m\u001b[0m\u001b[0;34m\u001b[0m\u001b[0m\n",
      "\u001b[0;32m~/Desktop/Code/School/MLP2/srcs/Optimizer.py\u001b[0m in \u001b[0;36mfit\u001b[0;34m(self, layers, y)\u001b[0m\n\u001b[1;32m     22\u001b[0m         \u001b[0;31m# print(\"loss dev:\", self.local_gradient)\u001b[0m\u001b[0;34m\u001b[0m\u001b[0;34m\u001b[0m\u001b[0;34m\u001b[0m\u001b[0m\n\u001b[1;32m     23\u001b[0m         \u001b[0;32mfor\u001b[0m \u001b[0ml\u001b[0m \u001b[0;32min\u001b[0m \u001b[0mreversed\u001b[0m\u001b[0;34m(\u001b[0m\u001b[0mlayers\u001b[0m\u001b[0;34m)\u001b[0m\u001b[0;34m:\u001b[0m\u001b[0;34m\u001b[0m\u001b[0;34m\u001b[0m\u001b[0m\n\u001b[0;32m---> 24\u001b[0;31m             \u001b[0mself\u001b[0m\u001b[0;34m.\u001b[0m\u001b[0mlocal_gradient\u001b[0m\u001b[0;34m,\u001b[0m \u001b[0mweights_gradient\u001b[0m \u001b[0;34m=\u001b[0m \u001b[0ml\u001b[0m\u001b[0;34m.\u001b[0m\u001b[0mbackwards\u001b[0m\u001b[0;34m(\u001b[0m\u001b[0mself\u001b[0m\u001b[0;34m.\u001b[0m\u001b[0mlocal_gradient\u001b[0m\u001b[0;34m)\u001b[0m\u001b[0;34m\u001b[0m\u001b[0;34m\u001b[0m\u001b[0m\n\u001b[0m\u001b[1;32m     25\u001b[0m             \u001b[0;31m# print(f\"{self.local_gradient =}\")\u001b[0m\u001b[0;34m\u001b[0m\u001b[0;34m\u001b[0m\u001b[0;34m\u001b[0m\u001b[0m\n\u001b[1;32m     26\u001b[0m             \u001b[0mself\u001b[0m\u001b[0;34m.\u001b[0m\u001b[0mupdate_weights\u001b[0m\u001b[0;34m(\u001b[0m\u001b[0mweights_gradient\u001b[0m\u001b[0;34m,\u001b[0m \u001b[0ml\u001b[0m\u001b[0;34m)\u001b[0m\u001b[0;34m\u001b[0m\u001b[0;34m\u001b[0m\u001b[0m\n",
      "\u001b[0;32m~/Desktop/Code/School/MLP2/srcs/Layer.py\u001b[0m in \u001b[0;36mbackwards\u001b[0;34m(self, djda)\u001b[0m\n\u001b[1;32m     70\u001b[0m         \u001b[0;31m# print(f\"{dadz.shape = }, {djda.shape = }\")\u001b[0m\u001b[0;34m\u001b[0m\u001b[0;34m\u001b[0m\u001b[0;34m\u001b[0m\u001b[0m\n\u001b[1;32m     71\u001b[0m         \u001b[0mdjdz\u001b[0m \u001b[0;34m=\u001b[0m \u001b[0mnp\u001b[0m\u001b[0;34m.\u001b[0m\u001b[0meinsum\u001b[0m\u001b[0;34m(\u001b[0m \u001b[0;34m'ik,ikj->ij'\u001b[0m\u001b[0;34m,\u001b[0m \u001b[0mdjda\u001b[0m\u001b[0;34m,\u001b[0m \u001b[0mdadz\u001b[0m\u001b[0;34m)\u001b[0m\u001b[0;34m\u001b[0m\u001b[0;34m\u001b[0m\u001b[0m\n\u001b[0;32m---> 72\u001b[0;31m         \u001b[0mlogging\u001b[0m\u001b[0;34m.\u001b[0m\u001b[0mDEBUG\u001b[0m\u001b[0;34m(\u001b[0m\u001b[0;34mf\"{djdz = }\"\u001b[0m\u001b[0;34m)\u001b[0m\u001b[0;34m\u001b[0m\u001b[0;34m\u001b[0m\u001b[0m\n\u001b[0m\u001b[1;32m     73\u001b[0m         \u001b[0mdjdw\u001b[0m \u001b[0;34m=\u001b[0m \u001b[0mmatmul\u001b[0m\u001b[0;34m(\u001b[0m\u001b[0mself\u001b[0m\u001b[0;34m.\u001b[0m\u001b[0mx\u001b[0m\u001b[0;34m.\u001b[0m\u001b[0mT\u001b[0m\u001b[0;34m,\u001b[0m \u001b[0mdjdz\u001b[0m\u001b[0;34m)\u001b[0m\u001b[0;34m\u001b[0m\u001b[0;34m\u001b[0m\u001b[0m\n\u001b[1;32m     74\u001b[0m         \u001b[0mlogging\u001b[0m\u001b[0;34m.\u001b[0m\u001b[0mDEBUG\u001b[0m\u001b[0;34m(\u001b[0m\u001b[0;34mf\"{djdw = }\"\u001b[0m\u001b[0;34m)\u001b[0m\u001b[0;34m\u001b[0m\u001b[0;34m\u001b[0m\u001b[0m\n",
      "\u001b[0;31mTypeError\u001b[0m: 'int' object is not callable"
     ]
    }
   ],
   "source": [
    "for i in range(10000):\n",
    "    m.fit(d.x, d.y)\n",
    "print(f\"{l.a = }\\n\\n{d.y = }\\n\\n{l.x = }\\n\\n{l.w}\\n\\n\")"
   ]
  },
  {
   "cell_type": "code",
   "execution_count": null,
   "metadata": {},
   "outputs": [],
   "source": []
  },
  {
   "cell_type": "code",
   "execution_count": 8,
   "metadata": {
    "tags": []
   },
   "outputs": [],
   "source": [
    "\n",
    "\n",
    "# d.y[-1][1] = 0\n",
    "# d.y[-1][2] = 1\n",
    "\n",
    "# for i in range(10):\n",
    "#     # print(i, \"\\n\\n\")\n",
    "#     m.fit(d.x, d.y)"
   ]
  },
  {
   "cell_type": "code",
   "execution_count": 14,
   "metadata": {},
   "outputs": [
    {
     "output_type": "execute_result",
     "data": {
      "text/plain": [
       "0.008942403190105086"
      ]
     },
     "metadata": {},
     "execution_count": 14
    }
   ],
   "source": [
    "np.mean(np.abs(m.layers[-1].a - d.y))"
   ]
  },
  {
   "cell_type": "code",
   "execution_count": 15,
   "metadata": {},
   "outputs": [
    {
     "output_type": "stream",
     "name": "stdout",
     "text": [
      "[ 0.00  0.00  0.00  1.00] [0 0 1 0]\n[ 0.00  1.00  0.00  0.00] [0 0 1 0]\n[ 0.00  0.00  1.00  0.00] [0 0 0 1]\n[ 0.00  1.00  0.00  0.00] [0 0 1 0]\n[ 0.00  1.00  0.00  0.00] [0 0 1 0]\n[ 0.00  0.00  1.00  0.00] [0 0 0 1]\n[ 1.00  0.00  0.00  0.00] [0 0 1 0]\n[ 0.00  0.00  1.00  0.00] [1 0 0 0]\n[ 0.00  0.00  1.00  0.00] [1 0 0 0]\n[ 0.00  0.00  0.00  1.00] [0 0 1 0]\n[ 0.00  0.00  1.00  0.00] [1 0 0 0]\n[ 0.00  0.00  1.00  0.00] [0 1 0 0]\n[ 0.97  1.00  0.00  0.00] [1 0 0 0]\n[ 0.00  1.00  0.00  0.00] [0 0 0 1]\n[ 0.00  1.00  0.00  0.00] [1 0 0 0]\n[ 0.00  0.00  0.00  1.00] [0 1 0 0]\n[ 0.00  1.00  0.00  0.00] [0 0 0 1]\n[ 1.00  0.00  0.00  0.00] [0 0 1 0]\n[ 1.00  0.00  0.00  0.00] [0 1 0 0]\n[ 1.00  0.00  0.00  0.00] [0 1 0 0]\n[ 0.00  0.00  1.00  0.00] [0 0 0 1]\n[ 0.00  0.00  1.00  0.00] [0 0 0 1]\n[ 0.00  1.00  0.00  0.00] [0 0 1 0]\n[ 0.00  0.00  1.00  0.00] [0 0 0 1]\n[ 0.00  1.00  0.00  0.00] [1 0 0 0]\n[ 0.00  0.00  1.00  0.00] [1 0 0 0]\n[ 0.00  0.00  1.00  0.00] [1 0 0 0]\n[ 0.00  1.00  0.00  0.00] [1 0 0 0]\n[ 0.00  1.00  0.00  0.00] [0 0 0 1]\n"
     ]
    }
   ],
   "source": [
    "for yhat, y in zip(m.layers[-1].a, d.y):\n",
    "    if (np.argmax(yhat) != np.argmax(y)):\n",
    "        print(yhat, y)"
   ]
  },
  {
   "cell_type": "code",
   "execution_count": null,
   "metadata": {},
   "outputs": [],
   "source": []
  }
 ]
}