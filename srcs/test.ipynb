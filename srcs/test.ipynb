{
 "metadata": {
  "language_info": {
   "codemirror_mode": {
    "name": "ipython",
    "version": 3
   },
   "file_extension": ".py",
   "mimetype": "text/x-python",
   "name": "python",
   "nbconvert_exporter": "python",
   "pygments_lexer": "ipython3",
   "version": "3.8.5"
  },
  "orig_nbformat": 2,
  "kernelspec": {
   "name": "python385jvsc74a57bd07b896c74b2e230d7bbea31edb18d2e6673f8deb44cb331509399d5c49f2e57b2",
   "display_name": "Python 3.8.5 64-bit ('venv': venv)"
  },
  "metadata": {
   "interpreter": {
    "hash": "7b896c74b2e230d7bbea31edb18d2e6673f8deb44cb331509399d5c49f2e57b2"
   }
  }
 },
 "nbformat": 4,
 "nbformat_minor": 2,
 "cells": [
  {
   "cell_type": "code",
   "execution_count": 1,
   "metadata": {},
   "outputs": [],
   "source": [
    "from Model import *\n",
    "from dataset import Dataset\n",
    "import numpy as np"
   ]
  },
  {
   "cell_type": "code",
   "execution_count": 2,
   "metadata": {},
   "outputs": [],
   "source": [
    "d = Dataset(\"../datasets/dataset_train.csv\")\n",
    "m = Model(sizes = [8, 4], activations = [\"softmax\"])\n",
    "l = m.layers[0]\n",
    "d.x = d.x\n",
    "d.y = d.y\n",
    "ex = d.x[0][np.newaxis, :]\n",
    "ey = d.y[0][np.newaxis, :]"
   ]
  },
  {
   "cell_type": "code",
   "execution_count": 3,
   "metadata": {},
   "outputs": [],
   "source": [
    "yhat = m.feed_forward(d.x)\n",
    "J = m.Optimizer.Loss.loss(yhat, d.y)\n",
    "dadz = l.activation_derivative(l.z, l.a)\n",
    "djda = m.Optimizer.Loss.loss_derivative(l.a, d.y)"
   ]
  },
  {
   "cell_type": "code",
   "execution_count": 4,
   "metadata": {},
   "outputs": [],
   "source": [
    "# yhat = m.feed_forward(ex)\n",
    "# J = m.Optimizer.Loss.loss(l.a, ey)\n",
    "# dadz = l.activation_derivative(l.z, l.a)\n",
    "# djda = m.Optimizer.Loss.loss_derivative(l.a, ey)\n"
   ]
  },
  {
   "cell_type": "code",
   "execution_count": 5,
   "metadata": {},
   "outputs": [
    {
     "output_type": "stream",
     "name": "stdout",
     "text": [
      "dadz.shape = (1600, 4, 4), djdz.shape = (1600, 4), djdw.shape = (9, 4), self.w[1:, :].T.shape = (4, 8), self.w.T.shape = (4, 9), self.x.shape = (1600, 9)\n"
     ]
    }
   ],
   "source": [
    "m.fit(d.x, d.y)"
   ]
  },
  {
   "cell_type": "code",
   "execution_count": 6,
   "metadata": {
    "tags": []
   },
   "outputs": [
    {
     "output_type": "stream",
     "name": "stdout",
     "text": [
      "dadz.shape = (1600, 4, 4), djdz.shape = (1600, 4), djdw.shape = (9, 4), self.w[1:, :].T.shape = (4, 8), self.w.T.shape = (4, 9), self.x.shape = (1600, 9)\n",
      "dadz.shape = (1600, 4, 4), djdz.shape = (1600, 4), djdw.shape = (9, 4), self.w[1:, :].T.shape = (4, 8), self.w.T.shape = (4, 9), self.x.shape = (1600, 9)\n",
      "dadz.shape = (1600, 4, 4), djdz.shape = (1600, 4), djdw.shape = (9, 4), self.w[1:, :].T.shape = (4, 8), self.w.T.shape = (4, 9), self.x.shape = (1600, 9)\n",
      "dadz.shape = (1600, 4, 4), djdz.shape = (1600, 4), djdw.shape = (9, 4), self.w[1:, :].T.shape = (4, 8), self.w.T.shape = (4, 9), self.x.shape = (1600, 9)\n",
      "dadz.shape = (1600, 4, 4), djdz.shape = (1600, 4), djdw.shape = (9, 4), self.w[1:, :].T.shape = (4, 8), self.w.T.shape = (4, 9), self.x.shape = (1600, 9)\n",
      "dadz.shape = (1600, 4, 4), djdz.shape = (1600, 4), djdw.shape = (9, 4), self.w[1:, :].T.shape = (4, 8), self.w.T.shape = (4, 9), self.x.shape = (1600, 9)\n",
      "dadz.shape = (1600, 4, 4), djdz.shape = (1600, 4), djdw.shape = (9, 4), self.w[1:, :].T.shape = (4, 8), self.w.T.shape = (4, 9), self.x.shape = (1600, 9)\n",
      "dadz.shape = (1600, 4, 4), djdz.shape = (1600, 4), djdw.shape = (9, 4), self.w[1:, :].T.shape = (4, 8), self.w.T.shape = (4, 9), self.x.shape = (1600, 9)\n",
      "dadz.shape = (1600, 4, 4), djdz.shape = (1600, 4), djdw.shape = (9, 4), self.w[1:, :].T.shape = (4, 8), self.w.T.shape = (4, 9), self.x.shape = (1600, 9)\n",
      "dadz.shape = (1600, 4, 4), djdz.shape = (1600, 4), djdw.shape = (9, 4), self.w[1:, :].T.shape = (4, 8), self.w.T.shape = (4, 9), self.x.shape = (1600, 9)\n",
      "/home/gijs/Documents/joep/MLP2/srcs/Loss.py:26: RuntimeWarning: invalid value encountered in true_divide\n",
      "  djonda = -1 * (y / y_hat)\n"
     ]
    }
   ],
   "source": [
    "for i in range(10):\n",
    "    m.fit(d.x, d.y)"
   ]
  },
  {
   "cell_type": "code",
   "execution_count": null,
   "metadata": {},
   "outputs": [],
   "source": []
  }
 ]
}